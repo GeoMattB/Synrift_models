{
 "cells": [
  {
   "cell_type": "markdown",
   "metadata": {},
   "source": [
    "# Required extra packages in docker image\n",
    "## geopandas\n",
    "## copy stratalMeshV2.py to badlands directory\n",
    "\n"
   ]
  },
  {
   "cell_type": "code",
   "execution_count": null,
   "metadata": {},
   "outputs": [],
   "source": [
    "! pip3 install geopandas # Geographic add on for pandas\n",
    "! pip3 install tables # manipulation of h5py, possibly redundant from 6/2020\n",
    "! apt-get -y install ne htop # useful components of OS"
   ]
  },
  {
   "cell_type": "code",
   "execution_count": 1,
   "metadata": {},
   "outputs": [],
   "source": [
    "## move the modified stratal mesh companion script to the right place, this is to fix a bug in either my setup or Badlands \n",
    "! cp stratalMeshV2.py /usr/local/lib/python3.5/dist-packages/badlands_companion/.\n",
    "! cp stratalMeshV3poro.py /usr/local/lib/python3.5/dist-packages/badlands_companion/."
   ]
  },
  {
   "cell_type": "code",
   "execution_count": 2,
   "metadata": {},
   "outputs": [],
   "source": [
    "# modified to include porosity\n",
    "! cp stratalMeshV3poro.py /usr/local/lib/python3.5/dist-packages/badlands_companion/."
   ]
  },
  {
   "cell_type": "code",
   "execution_count": 1,
   "metadata": {},
   "outputs": [
    {
     "name": "stdout",
     "output_type": "stream",
     "text": [
      "Collecting pyvista\n",
      "  Downloading https://files.pythonhosted.org/packages/d3/b7/332f102a65b07a4eeadd1882e3cdda6b913c0283128d4ebe08adbe9cb75c/pyvista-0.25.3-py3-none-any.whl (1.2MB)\n",
      "\u001b[K    100% |████████████████████████████████| 1.2MB 610kB/s eta 0:00:01\n",
      "\u001b[?25hCollecting meshio<5.0,>=4.0.3 (from pyvista)\n",
      "  Downloading https://files.pythonhosted.org/packages/2e/c5/bec893fdc5bb803aac2230131bcfeea92f81283b2cf2ac5ddf514eb60d00/meshio-4.0.15-py3-none-any.whl (134kB)\n",
      "\u001b[K    100% |████████████████████████████████| 143kB 6.7MB/s eta 0:00:01\n",
      "\u001b[?25hCollecting scooby>=0.5.1 (from pyvista)\n",
      "  Downloading https://files.pythonhosted.org/packages/a1/88/c23497b7312941587c85573572c752127ba68d05f5ba1c0ce66d47f4b9ef/scooby-0.5.5-py3-none-any.whl\n",
      "Requirement already satisfied: appdirs in /usr/local/lib/python3.5/dist-packages (from pyvista)\n",
      "Requirement already satisfied: imageio in /usr/local/lib/python3.5/dist-packages (from pyvista)\n",
      "Collecting vtk (from pyvista)\n",
      "  Downloading https://files.pythonhosted.org/packages/e5/1c/3ea9e7f481a33ac28af75c4df0907cb8ce39ac33385566e9dcf4f95b0dcc/vtk-8.1.2-cp35-cp35m-manylinux1_x86_64.whl (48.9MB)\n",
      "\u001b[K    100% |████████████████████████████████| 48.9MB 20kB/s  eta 0:00:01\n",
      "\u001b[?25hRequirement already satisfied: numpy in /usr/local/lib/python3.5/dist-packages (from pyvista)\n",
      "Collecting importlib-metadata; python_version < \"3.8\" (from meshio<5.0,>=4.0.3->pyvista)\n",
      "  Downloading https://files.pythonhosted.org/packages/98/13/a1d703ec396ade42c1d33df0e1cb691a28b7c08b336a5683912c87e04cd7/importlib_metadata-1.6.1-py2.py3-none-any.whl\n",
      "Requirement already satisfied: pillow in /usr/local/lib/python3.5/dist-packages (from imageio->pyvista)\n",
      "Collecting zipp>=0.5 (from importlib-metadata; python_version < \"3.8\"->meshio<5.0,>=4.0.3->pyvista)\n",
      "  Downloading https://files.pythonhosted.org/packages/96/0a/67556e9b7782df7118c1f49bdc494da5e5e429c93aa77965f33e81287c8c/zipp-1.2.0-py2.py3-none-any.whl\n",
      "Installing collected packages: zipp, importlib-metadata, meshio, scooby, vtk, pyvista\n",
      "  Found existing installation: meshio 2.3.10\n",
      "    Uninstalling meshio-2.3.10:\n",
      "      Successfully uninstalled meshio-2.3.10\n",
      "Successfully installed importlib-metadata-1.6.1 meshio-4.0.15 pyvista-0.25.3 scooby-0.5.5 vtk-8.1.2 zipp-1.2.0\n"
     ]
    }
   ],
   "source": [
    "#Sullivan et al., (2019). PyVista: 3D plotting and mesh analysis through a streamlined interface for the Visualization Toolkit (VTK). Journal of Open Source Software, 4(37), 1450, https://doi.org/10.21105/joss.01450\n",
    "! pip3 install pyvista #mesh to mesh calculations 26/06/2020"
   ]
  },
  {
   "cell_type": "code",
   "execution_count": 3,
   "metadata": {},
   "outputs": [
    {
     "name": "stdout",
     "output_type": "stream",
     "text": [
      "Collecting h5py\n",
      "  Downloading https://files.pythonhosted.org/packages/10/56/d5c53cd170529bb40cd7dd43e2b68944cb65a45f65ab4c78a68f4ac9e51e/h5py-2.10.0-cp35-cp35m-manylinux1_x86_64.whl (2.8MB)\n",
      "\u001b[K    100% |████████████████████████████████| 2.8MB 408kB/s eta 0:00:01\n",
      "\u001b[?25hCollecting numpy>=1.7 (from h5py)\n",
      "  Downloading https://files.pythonhosted.org/packages/b5/36/88723426b4ff576809fec7d73594fe17a35c27f8d01f93637637a29ae25b/numpy-1.18.5-cp35-cp35m-manylinux1_x86_64.whl (19.9MB)\n",
      "\u001b[K    100% |████████████████████████████████| 19.9MB 56kB/s  eta 0:00:01\n",
      "\u001b[?25hCollecting six (from h5py)\n",
      "  Downloading https://files.pythonhosted.org/packages/ee/ff/48bde5c0f013094d729fe4b0316ba2a24774b3ff1c52d924a8a4cb04078a/six-1.15.0-py2.py3-none-any.whl\n",
      "Installing collected packages: numpy, six, h5py\n",
      "  Found existing installation: numpy 1.17.0\n",
      "    Uninstalling numpy-1.17.0:\n",
      "      Not removing or modifying (outside of prefix):\n",
      "      /usr/bin/f2py3.5\n",
      "      /usr/bin/f2py3\n",
      "      Successfully uninstalled numpy-1.17.0\n",
      "  Found existing installation: six 1.12.0\n",
      "    Uninstalling six-1.12.0:\n",
      "      Successfully uninstalled six-1.12.0\n",
      "  Found existing installation: h5py 2.9.0\n",
      "    Uninstalling h5py-2.9.0:\n",
      "      Successfully uninstalled h5py-2.9.0\n",
      "Successfully installed h5py-2.10.0 numpy-1.18.5 six-1.15.0\n"
     ]
    }
   ],
   "source": []
  },
  {
   "cell_type": "code",
   "execution_count": 3,
   "metadata": {},
   "outputs": [],
   "source": [
    "x=!nproc"
   ]
  },
  {
   "cell_type": "code",
   "execution_count": 4,
   "metadata": {},
   "outputs": [
    {
     "data": {
      "text/plain": [
       "['16']"
      ]
     },
     "execution_count": 4,
     "metadata": {},
     "output_type": "execute_result"
    }
   ],
   "source": [
    "x"
   ]
  },
  {
   "cell_type": "code",
   "execution_count": 5,
   "metadata": {},
   "outputs": [
    {
     "ename": "TypeError",
     "evalue": "int() argument must be a string, a bytes-like object or a number, not 'SList'",
     "output_type": "error",
     "traceback": [
      "\u001b[0;31m---------------------------------------------------------------------------\u001b[0m",
      "\u001b[0;31mTypeError\u001b[0m                                 Traceback (most recent call last)",
      "\u001b[0;32m<ipython-input-5-527b5bdcf2f9>\u001b[0m in \u001b[0;36m<module>\u001b[0;34m\u001b[0m\n\u001b[0;32m----> 1\u001b[0;31m \u001b[0my\u001b[0m\u001b[0;34m=\u001b[0m\u001b[0mint\u001b[0m\u001b[0;34m(\u001b[0m\u001b[0mx\u001b[0m\u001b[0;34m)\u001b[0m\u001b[0;34m\u001b[0m\u001b[0m\n\u001b[0m",
      "\u001b[0;31mTypeError\u001b[0m: int() argument must be a string, a bytes-like object or a number, not 'SList'"
     ]
    }
   ],
   "source": [
    "y=int(x)"
   ]
  },
  {
   "cell_type": "code",
   "execution_count": null,
   "metadata": {},
   "outputs": [],
   "source": []
  }
 ],
 "metadata": {
  "kernelspec": {
   "display_name": "Python 3",
   "language": "python",
   "name": "python3"
  },
  "language_info": {
   "codemirror_mode": {
    "name": "ipython",
    "version": 3
   },
   "file_extension": ".py",
   "mimetype": "text/x-python",
   "name": "python",
   "nbconvert_exporter": "python",
   "pygments_lexer": "ipython3",
   "version": "3.5.3"
  }
 },
 "nbformat": 4,
 "nbformat_minor": 2
}
